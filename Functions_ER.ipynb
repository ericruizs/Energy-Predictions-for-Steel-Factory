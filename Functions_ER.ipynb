{
 "cells": [
  {
   "cell_type": "code",
   "execution_count": null,
   "id": "7b367902",
   "metadata": {},
   "outputs": [],
   "source": [
    "def make_dummies(df): \n",
    "    \n",
    "    categorical = df.select_dtypes(include=object) #Select all the categorical columns\n",
    "    \n",
    "    for col in categorical: \n",
    "        dummy = pd.get_dummies(df[col], drop_first=True)\n",
    "        df = pd.concat([df, dummy], axis=1) #join the numerical column with the dummies\n",
    "        df.drop(col, axis=1, inplace=True) #Drop the original categorical from the dataframe\n",
    "        \n",
    "    return df"
   ]
  },
  {
   "cell_type": "code",
   "execution_count": null,
   "id": "c8827975",
   "metadata": {},
   "outputs": [],
   "source": [
    "def make_poly(df):\n",
    "    \n",
    "    pf = PolynomialFeatures(degree=2, include_bias=False, interaction_only=False)\n",
    "    fit_pf = pf.fit(df) #Fit to polinomial degree 2\n",
    "    poly = pd.DataFrame(pf.transform(df), columns=fit_pf.get_feature_names_out(df.columns)) #Create the poly 2 df that will be returned\n",
    "    \n",
    "    return poly"
   ]
  },
  {
   "cell_type": "code",
   "execution_count": null,
   "id": "295cacf4",
   "metadata": {},
   "outputs": [],
   "source": [
    "def make_scale(df):\n",
    "    \n",
    "    ss = StandardScaler()\n",
    "    scaled_features = ss.fit_transform(df) #Standard scale the dataframe\n",
    "    scaled_df = pd.DataFrame(scaled_features, columns=df.columns) #Create the dataframe that will be returned\n",
    "    \n",
    "    return scaled_df"
   ]
  }
 ],
 "metadata": {
  "kernelspec": {
   "display_name": "Python 3",
   "language": "python",
   "name": "python3"
  },
  "language_info": {
   "codemirror_mode": {
    "name": "ipython",
    "version": 3
   },
   "file_extension": ".py",
   "mimetype": "text/x-python",
   "name": "python",
   "nbconvert_exporter": "python",
   "pygments_lexer": "ipython3",
   "version": "3.9.15"
  }
 },
 "nbformat": 4,
 "nbformat_minor": 5
}
